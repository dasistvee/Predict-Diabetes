{
 "cells": [
  {
   "cell_type": "markdown",
   "metadata": {},
   "source": [
    "#### 1: Import the dataset"
   ]
  },
  {
   "cell_type": "code",
   "execution_count": 122,
   "metadata": {
    "collapsed": true
   },
   "outputs": [],
   "source": [
    "#Import the required libraries\n",
    "import pandas as pd\n",
    "import numpy as np\n"
   ]
  },
  {
   "cell_type": "code",
   "execution_count": 123,
   "metadata": {
    "collapsed": false
   },
   "outputs": [],
   "source": [
    "#Import the diabetes dataset\n",
    "diab_data=pd.read_csv('E:\\\\Education\\\\Python\\\\predict diabetes\\\\pima-indians-diabetes.data',header=None)"
   ]
  },
  {
   "cell_type": "markdown",
   "metadata": {},
   "source": [
    "#### 2: Analyze the dataset"
   ]
  },
  {
   "cell_type": "code",
   "execution_count": 124,
   "metadata": {
    "collapsed": false
   },
   "outputs": [
    {
     "data": {
      "text/html": [
       "<div>\n",
       "<style scoped>\n",
       "    .dataframe tbody tr th:only-of-type {\n",
       "        vertical-align: middle;\n",
       "    }\n",
       "\n",
       "    .dataframe tbody tr th {\n",
       "        vertical-align: top;\n",
       "    }\n",
       "\n",
       "    .dataframe thead th {\n",
       "        text-align: right;\n",
       "    }\n",
       "</style>\n",
       "<table border=\"1\" class=\"dataframe\">\n",
       "  <thead>\n",
       "    <tr style=\"text-align: right;\">\n",
       "      <th></th>\n",
       "      <th>0</th>\n",
       "      <th>1</th>\n",
       "      <th>2</th>\n",
       "      <th>3</th>\n",
       "      <th>4</th>\n",
       "      <th>5</th>\n",
       "      <th>6</th>\n",
       "      <th>7</th>\n",
       "      <th>8</th>\n",
       "    </tr>\n",
       "  </thead>\n",
       "  <tbody>\n",
       "    <tr>\n",
       "      <th>0</th>\n",
       "      <td>6</td>\n",
       "      <td>148</td>\n",
       "      <td>72</td>\n",
       "      <td>35</td>\n",
       "      <td>0</td>\n",
       "      <td>33.6</td>\n",
       "      <td>0.627</td>\n",
       "      <td>50</td>\n",
       "      <td>1</td>\n",
       "    </tr>\n",
       "    <tr>\n",
       "      <th>1</th>\n",
       "      <td>1</td>\n",
       "      <td>85</td>\n",
       "      <td>66</td>\n",
       "      <td>29</td>\n",
       "      <td>0</td>\n",
       "      <td>26.6</td>\n",
       "      <td>0.351</td>\n",
       "      <td>31</td>\n",
       "      <td>0</td>\n",
       "    </tr>\n",
       "    <tr>\n",
       "      <th>2</th>\n",
       "      <td>8</td>\n",
       "      <td>183</td>\n",
       "      <td>64</td>\n",
       "      <td>0</td>\n",
       "      <td>0</td>\n",
       "      <td>23.3</td>\n",
       "      <td>0.672</td>\n",
       "      <td>32</td>\n",
       "      <td>1</td>\n",
       "    </tr>\n",
       "    <tr>\n",
       "      <th>3</th>\n",
       "      <td>1</td>\n",
       "      <td>89</td>\n",
       "      <td>66</td>\n",
       "      <td>23</td>\n",
       "      <td>94</td>\n",
       "      <td>28.1</td>\n",
       "      <td>0.167</td>\n",
       "      <td>21</td>\n",
       "      <td>0</td>\n",
       "    </tr>\n",
       "    <tr>\n",
       "      <th>4</th>\n",
       "      <td>0</td>\n",
       "      <td>137</td>\n",
       "      <td>40</td>\n",
       "      <td>35</td>\n",
       "      <td>168</td>\n",
       "      <td>43.1</td>\n",
       "      <td>2.288</td>\n",
       "      <td>33</td>\n",
       "      <td>1</td>\n",
       "    </tr>\n",
       "  </tbody>\n",
       "</table>\n",
       "</div>"
      ],
      "text/plain": [
       "   0    1   2   3    4     5      6   7  8\n",
       "0  6  148  72  35    0  33.6  0.627  50  1\n",
       "1  1   85  66  29    0  26.6  0.351  31  0\n",
       "2  8  183  64   0    0  23.3  0.672  32  1\n",
       "3  1   89  66  23   94  28.1  0.167  21  0\n",
       "4  0  137  40  35  168  43.1  2.288  33  1"
      ]
     },
     "execution_count": 124,
     "metadata": {},
     "output_type": "execute_result"
    }
   ],
   "source": [
    "#View the first five observations of the dataset\n",
    "diab_data.head()"
   ]
  },
  {
   "cell_type": "markdown",
   "metadata": {},
   "source": [
    "#### 3: Find the features of the dataset"
   ]
  },
  {
   "cell_type": "code",
   "execution_count": 125,
   "metadata": {
    "collapsed": true
   },
   "outputs": [],
   "source": [
    "#Use the .NAMES file to view and set the features of the dataset\n",
    "feature_names=['Pregnant','Glucose','BP','Skin','Insulin','BMI','Pedigree','Age','Label']"
   ]
  },
  {
   "cell_type": "code",
   "execution_count": 126,
   "metadata": {
    "collapsed": false
   },
   "outputs": [],
   "source": [
    "#Use the feature names set earlier and fix it as the column headers of the dataset\n",
    "diab_data=pd.read_csv('E:\\\\Education\\\\Python\\\\predict diabetes\\\\pima-indians-diabetes.data',header=None,names=feature_names)\n"
   ]
  },
  {
   "cell_type": "code",
   "execution_count": 127,
   "metadata": {
    "collapsed": false
   },
   "outputs": [
    {
     "data": {
      "text/html": [
       "<div>\n",
       "<style scoped>\n",
       "    .dataframe tbody tr th:only-of-type {\n",
       "        vertical-align: middle;\n",
       "    }\n",
       "\n",
       "    .dataframe tbody tr th {\n",
       "        vertical-align: top;\n",
       "    }\n",
       "\n",
       "    .dataframe thead th {\n",
       "        text-align: right;\n",
       "    }\n",
       "</style>\n",
       "<table border=\"1\" class=\"dataframe\">\n",
       "  <thead>\n",
       "    <tr style=\"text-align: right;\">\n",
       "      <th></th>\n",
       "      <th>Pregnant</th>\n",
       "      <th>Glucose</th>\n",
       "      <th>BP</th>\n",
       "      <th>Skin</th>\n",
       "      <th>Insulin</th>\n",
       "      <th>BMI</th>\n",
       "      <th>Pedigree</th>\n",
       "      <th>Age</th>\n",
       "      <th>Label</th>\n",
       "    </tr>\n",
       "  </thead>\n",
       "  <tbody>\n",
       "    <tr>\n",
       "      <th>0</th>\n",
       "      <td>6</td>\n",
       "      <td>148</td>\n",
       "      <td>72</td>\n",
       "      <td>35</td>\n",
       "      <td>0</td>\n",
       "      <td>33.6</td>\n",
       "      <td>0.627</td>\n",
       "      <td>50</td>\n",
       "      <td>1</td>\n",
       "    </tr>\n",
       "    <tr>\n",
       "      <th>1</th>\n",
       "      <td>1</td>\n",
       "      <td>85</td>\n",
       "      <td>66</td>\n",
       "      <td>29</td>\n",
       "      <td>0</td>\n",
       "      <td>26.6</td>\n",
       "      <td>0.351</td>\n",
       "      <td>31</td>\n",
       "      <td>0</td>\n",
       "    </tr>\n",
       "    <tr>\n",
       "      <th>2</th>\n",
       "      <td>8</td>\n",
       "      <td>183</td>\n",
       "      <td>64</td>\n",
       "      <td>0</td>\n",
       "      <td>0</td>\n",
       "      <td>23.3</td>\n",
       "      <td>0.672</td>\n",
       "      <td>32</td>\n",
       "      <td>1</td>\n",
       "    </tr>\n",
       "    <tr>\n",
       "      <th>3</th>\n",
       "      <td>1</td>\n",
       "      <td>89</td>\n",
       "      <td>66</td>\n",
       "      <td>23</td>\n",
       "      <td>94</td>\n",
       "      <td>28.1</td>\n",
       "      <td>0.167</td>\n",
       "      <td>21</td>\n",
       "      <td>0</td>\n",
       "    </tr>\n",
       "    <tr>\n",
       "      <th>4</th>\n",
       "      <td>0</td>\n",
       "      <td>137</td>\n",
       "      <td>40</td>\n",
       "      <td>35</td>\n",
       "      <td>168</td>\n",
       "      <td>43.1</td>\n",
       "      <td>2.288</td>\n",
       "      <td>33</td>\n",
       "      <td>1</td>\n",
       "    </tr>\n",
       "  </tbody>\n",
       "</table>\n",
       "</div>"
      ],
      "text/plain": [
       "   Pregnant  Glucose  BP  Skin  Insulin   BMI  Pedigree  Age  Label\n",
       "0         6      148  72    35        0  33.6     0.627   50      1\n",
       "1         1       85  66    29        0  26.6     0.351   31      0\n",
       "2         8      183  64     0        0  23.3     0.672   32      1\n",
       "3         1       89  66    23       94  28.1     0.167   21      0\n",
       "4         0      137  40    35      168  43.1     2.288   33      1"
      ]
     },
     "execution_count": 127,
     "metadata": {},
     "output_type": "execute_result"
    }
   ],
   "source": [
    "#Verify if the dataset is updated with the new headers\n",
    "diab_data.head()"
   ]
  },
  {
   "cell_type": "code",
   "execution_count": 128,
   "metadata": {
    "collapsed": false
   },
   "outputs": [
    {
     "data": {
      "text/plain": [
       "Index(['Pregnant', 'Glucose', 'BP', 'Skin', 'Insulin', 'BMI', 'Pedigree',\n",
       "       'Age', 'Label'],\n",
       "      dtype='object')"
      ]
     },
     "execution_count": 128,
     "metadata": {},
     "output_type": "execute_result"
    }
   ],
   "source": [
    "#View the number of observations and features of the dataset\n",
    "diab_data.shape\n",
    "diab_data.columns"
   ]
  },
  {
   "cell_type": "markdown",
   "metadata": {},
   "source": [
    "#### 4: Find the response  of the dataset"
   ]
  },
  {
   "cell_type": "code",
   "execution_count": 129,
   "metadata": {
    "collapsed": true
   },
   "outputs": [
    {
     "name": "stdout",
     "output_type": "stream",
     "text": [
      "          0            0\n",
      "0  Pregnant   111.519691\n",
      "1   Glucose  1411.887041\n",
      "2        BP    17.605373\n",
      "3      Skin    53.108040\n",
      "4   Insulin  2175.565273\n",
      "5       BMI   127.669343\n",
      "6  Pedigree     5.392682\n",
      "7       Age   181.303689\n"
     ]
    }
   ],
   "source": [
    "#Select features from the dataset to create the model\n",
    "from sklearn.feature_selection import SelectKBest\n",
    "from sklearn.feature_selection import chi2\n",
    "x=diab_data.iloc[:,0:8]\n",
    "y=diab_data.iloc[:,-1]\n",
    "bestfeatures=SelectKBest(score_func=chi2,k=7)\n",
    "fit=bestfeatures.fit(x,y)\n",
    "dfscores=pd.DataFrame(fit.scores_)\n",
    "dfcolumnns=pd.DataFrame(x.columns)\n",
    "featurescores=pd.concat([dfcolumnns,dfscores],axis=1)\n",
    "print(featurescores)\n"
   ]
  },
  {
   "cell_type": "code",
   "execution_count": 141,
   "metadata": {
    "collapsed": true
   },
   "outputs": [],
   "source": [
    "#Create the feature object\n",
    "x_feature=diab_data[['Pregnant','Glucose','Insulin','BMI','Age']]"
   ]
  },
  {
   "cell_type": "code",
   "execution_count": 142,
   "metadata": {
    "collapsed": true
   },
   "outputs": [],
   "source": [
    "#Create the reponse object\n",
    "y_target=diab_data.Label"
   ]
  },
  {
   "cell_type": "code",
   "execution_count": 143,
   "metadata": {
    "collapsed": false
   },
   "outputs": [
    {
     "data": {
      "text/plain": [
       "(768, 5)"
      ]
     },
     "execution_count": 143,
     "metadata": {},
     "output_type": "execute_result"
    }
   ],
   "source": [
    "#View the shape of the feature object\n",
    "x_feature.shape\n"
   ]
  },
  {
   "cell_type": "code",
   "execution_count": 144,
   "metadata": {
    "collapsed": false
   },
   "outputs": [
    {
     "data": {
      "text/plain": [
       "(768,)"
      ]
     },
     "execution_count": 144,
     "metadata": {},
     "output_type": "execute_result"
    }
   ],
   "source": [
    "#View the shape of the target object\n",
    "y_target.shape"
   ]
  },
  {
   "cell_type": "markdown",
   "metadata": {},
   "source": [
    "\n",
    "\n",
    "\n",
    "#### 5: Use training and testing datasets to train the model"
   ]
  },
  {
   "cell_type": "code",
   "execution_count": 145,
   "metadata": {
    "collapsed": true
   },
   "outputs": [
    {
     "name": "stdout",
     "output_type": "stream",
     "text": [
      "(576, 5)\n",
      "(576,)\n",
      "(192, 5)\n",
      "(192,)\n"
     ]
    }
   ],
   "source": [
    "#Split the dataset to test and train the model\n",
    "from sklearn.model_selection import train_test_split as tts\n",
    "x_train, x_test, y_train, y_test =tts(x_feature,y_target,random_state=1)\n",
    "print(x_train.shape)\n",
    "print(y_train.shape)\n",
    "print(x_test.shape)\n",
    "print(y_test.shape)\n",
    "\n"
   ]
  },
  {
   "cell_type": "markdown",
   "metadata": {},
   "source": [
    "\n",
    "#### 6: Create a model  to predict the diabetes outcome"
   ]
  },
  {
   "cell_type": "code",
   "execution_count": 146,
   "metadata": {
    "collapsed": false
   },
   "outputs": [
    {
     "data": {
      "text/plain": [
       "LinearRegression()"
      ]
     },
     "execution_count": 146,
     "metadata": {},
     "output_type": "execute_result"
    }
   ],
   "source": [
    "# Create a logistic regression model using the training set\n",
    "from sklearn.linear_model import LinearRegression \n",
    "linreg=LinearRegression()\n",
    "linreg.fit(x_train,y_train)"
   ]
  },
  {
   "cell_type": "code",
   "execution_count": 155,
   "metadata": {
    "collapsed": true
   },
   "outputs": [
    {
     "data": {
      "text/plain": [
       "array([ 0.44605877,  0.39140369,  0.22121179,  0.02968091,  0.29588577,\n",
       "        0.34306389,  0.39720349,  0.14593369,  0.23230849,  0.27912166,\n",
       "        0.52187435,  0.06539476,  0.98569224,  0.65945529, -0.17668434,\n",
       "        0.72566479,  0.2907784 ,  0.3869758 ,  0.04411451,  0.12355169,\n",
       "        0.35275095,  0.1175434 ,  0.98082487,  0.36155278,  0.05455352,\n",
       "        0.47494567,  0.32678516,  0.69481815,  0.11497629,  0.42083725,\n",
       "        0.42481308,  0.18090614,  0.01213014,  0.73681307,  0.14451592,\n",
       "        0.63310906,  0.05424566,  0.23839244,  0.15550425,  0.5771377 ,\n",
       "        0.25739148,  0.09959023, -0.05292474,  0.34164913,  0.05003481,\n",
       "       -0.13353503,  0.74900191,  0.80302702,  0.05665392,  0.19738696,\n",
       "       -0.39786495,  0.19133464,  0.78709872,  0.01623831,  0.63892356,\n",
       "        0.12922843,  0.42029162,  0.3123435 ,  0.52908402,  0.22979205,\n",
       "        0.62056209, -0.33872859,  0.64018425,  0.33464176,  0.42142531,\n",
       "        0.15556601, -0.23561968,  0.38783871,  0.70475483,  0.59368842,\n",
       "        0.87447691,  0.72366491,  0.49079165, -0.19790867,  0.65936655,\n",
       "        0.39214407,  0.59271809,  0.45105334,  0.10722023,  0.67144583,\n",
       "        0.69986085,  0.32301279,  0.48036054,  0.35994146,  0.23926052,\n",
       "        0.7349947 ,  0.55245079,  0.36796246,  0.45689704,  0.32376547,\n",
       "        0.19664917,  0.00426662,  0.2853536 ,  0.17859312,  0.66202488,\n",
       "        0.49973873,  0.3534976 ,  0.30790665,  0.78734848,  0.15726007,\n",
       "        0.18635361,  0.33878096,  0.73454141,  0.27777391,  0.21065781,\n",
       "        0.1264598 ,  0.52739791,  0.61420708,  0.25551858,  0.17182946,\n",
       "        0.45929094,  0.028944  ,  0.50441026,  0.24986078, -0.23630909,\n",
       "        0.06006277,  0.20280041,  0.44370298,  0.34084039,  0.40204791,\n",
       "        0.19161231,  0.87755557,  0.39112804,  0.33636599,  0.25502551,\n",
       "        0.23835169,  0.2571094 ,  0.37261578,  0.53122366,  0.34999077,\n",
       "        0.94509677, -0.00978556,  0.43010482,  0.41585446,  0.12731798,\n",
       "        0.27077006,  0.13011263,  0.60036071,  0.17808519,  0.35668031,\n",
       "        0.90163916,  0.1236297 ,  0.28611901,  0.78206528,  0.61078525,\n",
       "        0.47824592,  0.02947252,  0.08483516,  0.22862793,  0.18855452,\n",
       "        0.36130195,  1.06395872,  0.1171168 ,  0.11505095,  0.67275331,\n",
       "        0.64535917,  0.37661711,  0.38979128,  0.39943808, -0.30720093,\n",
       "        0.65820351,  0.58361673,  0.26200835, -0.05218111,  0.41802115,\n",
       "        0.37218181,  0.37692607,  0.62558688,  0.69633102,  0.64846278,\n",
       "        0.92310508,  0.6894391 ,  0.26991282,  0.10574347,  0.64485873,\n",
       "        0.35773426,  0.82634184,  0.24245184,  0.22734974,  0.28313907,\n",
       "        0.39704089,  0.70718875,  0.11183203,  0.83618202, -0.03232495,\n",
       "        0.07644644,  0.07269482,  0.73442572,  0.45234118,  0.30339386,\n",
       "        0.27354647,  0.07898822])"
      ]
     },
     "execution_count": 155,
     "metadata": {},
     "output_type": "execute_result"
    }
   ],
   "source": [
    "#Make predictions using the testing set\n",
    "y_predict=linreg.predict(x_test)\n",
    "y_predict\n"
   ]
  },
  {
   "cell_type": "markdown",
   "metadata": {},
   "source": [
    "#### 7: Check the accuracy of the model"
   ]
  },
  {
   "cell_type": "code",
   "execution_count": 156,
   "metadata": {
    "collapsed": false
   },
   "outputs": [
    {
     "data": {
      "text/plain": [
       "0.16206412908578827"
      ]
     },
     "execution_count": 156,
     "metadata": {},
     "output_type": "execute_result"
    }
   ],
   "source": [
    "#Evaluate the accuracy of your model\n",
    "from sklearn.metrics import mean_squared_error\n",
    "mean_squared_error(y_test, y_predict)"
   ]
  },
  {
   "cell_type": "markdown",
   "metadata": {},
   "source": []
  },
  {
   "cell_type": "code",
   "execution_count": null,
   "metadata": {
    "collapsed": false
   },
   "outputs": [
    {
     "name": "stdout",
     "output_type": "stream",
     "text": [
      "Predicted: [ 0.44695423  0.09412907  0.19844682  0.4229759   0.361302    0.28893076\n",
      "  0.34258688  0.06549542  0.34646865  0.39756765  0.41066167  0.21279494\n",
      "  0.65978462  0.68660174 -0.32838051  0.4840493   0.343391    0.35029447\n",
      "  0.05328298  0.31339469  0.39695815  0.27930417  0.84352123  0.39608153\n",
      "  0.18387297  0.45626793  0.4282773   0.38214285  0.20842257  0.23414155]\n",
      "\n",
      "Actual: [0 0 0 0 0 0 0 0 0 0 0 0 1 1 0 1 1 0 0 0 1 1 1 1 0 0 0 1 0 1]\n"
     ]
    }
   ],
   "source": [
    "#Print the first 30 actual and predicted responses\n",
    "print('Predicted:',y_predict[0:30])\n",
    "print()\n",
    "print('Actual:', y_test.values[0:30])"
   ]
  }
 ],
 "metadata": {
  "kernelspec": {
   "display_name": "Python 3",
   "language": "python",
   "name": "python3"
  },
  "language_info": {
   "codemirror_mode": {
    "name": "ipython",
    "version": 3
   },
   "file_extension": ".py",
   "mimetype": "text/x-python",
   "name": "python",
   "nbconvert_exporter": "python",
   "pygments_lexer": "ipython3",
   "version": "3.10.2"
  }
 },
 "nbformat": 4,
 "nbformat_minor": 0
}
